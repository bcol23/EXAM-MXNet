{
 "cells": [
  {
   "cell_type": "code",
   "execution_count": null,
   "metadata": {},
   "outputs": [],
   "source": [
    "from datetime import datetime\n",
    "import mxnet as mx\n",
    "from mxnet import autograd, gluon, init, nd\n",
    "from mxnet.gluon import nn, rnn, utils as gutils\n",
    "import numpy as np\n",
    "import pandas as pd\n",
    "import sys\n",
    "from tqdm import tqdm\n",
    "\n",
    "from data import load_data\n",
    "from net import EXAM\n",
    "from eval import evaluate"
   ]
  },
  {
   "cell_type": "code",
   "execution_count": null,
   "metadata": {},
   "outputs": [],
   "source": [
    "# params\n",
    "ctx = [mx.cpu(0)]\n",
    "batch_size = 1200\n",
    "X_num = 1e5 # num of data, -1 means all\n",
    "feature_num = 50 # time step or sentence len\n",
    "hidden_size = 1024\n",
    "test_num = int(1e4)\n",
    "epoch = 500\n",
    "lr = 0.001\n",
    "opt = 'adam'\n",
    "if_label_embed = True # use EXAM_alter if True\n",
    "if_log = True # save result\n",
    "log_columns = ['loss', 'train_P@1', 'train_P@3', 'train_P@5', 'test_P@1', 'test_P@3', 'test_P@5']\n",
    "log_path = './log/'\n",
    "data_base_path = './'"
   ]
  },
  {
   "cell_type": "code",
   "execution_count": null,
   "metadata": {},
   "outputs": [],
   "source": [
    "if(if_label_embed):\n",
    "    train_data_loader, test_data_loader, embed, label_embed = load_data(X_num=X_num, \n",
    "        feature_num=feature_num, test_num=test_num, batch_size=batch_size, \n",
    "        data_base_path=data_base_path, if_label_embed=if_label_embed, if_log=if_log,\n",
    "        ctx=ctx[0])\n",
    "\n",
    "    net = EXAM.EXAM_alter(feature_num, embed, label_embed, hidden_size=hidden_size)\n",
    "\n",
    "else:\n",
    "    train_data_loader, test_data_loader, embed, label_num = load_data(X_num=X_num, \n",
    "        feature_num=feature_num, test_num=test_num, batch_size=batch_size, \n",
    "        data_base_path=data_base_path, if_label_embed=if_label_embed, if_log=if_log,\n",
    "        ctx=ctx[0])\n",
    "\n",
    "    net = EXAM.EXAM(feature_num, embed, label_num, hidden_size=hidden_size)"
   ]
  },
  {
   "cell_type": "code",
   "execution_count": null,
   "metadata": {},
   "outputs": [],
   "source": [
    "net.initialize(init=init.Xavier(), ctx=ctx)\n",
    "net.embed.weight.set_data(embed.idx_to_vec)\n",
    "if(if_label_embed):\n",
    "    net.label_embed.set_data(label_embed)\n",
    "\n",
    "loss = gluon.loss.SigmoidBCELoss()\n",
    "trainer = gluon.Trainer(net.collect_params(), opt, {'learning_rate': lr})"
   ]
  },
  {
   "cell_type": "code",
   "execution_count": null,
   "metadata": {},
   "outputs": [],
   "source": [
    "log = pd.DataFrame(columns=log_columns)\n",
    "train_loss, train_p1, train_p3, train_p5 = 0, 0, 0, 0\n",
    "\n",
    "for e in tqdm(range(1, epoch + 1), desc='train'):\n",
    "    train_loss = 0\n",
    "    for batch_idx, (X_batch, y_batch) in tqdm(enumerate(train_data_loader), \n",
    "        desc='train batch'):\n",
    "\n",
    "        _batch_size=X_batch.shape[0]\n",
    "        X_batch = gutils.split_and_load(X_batch, ctx, even_split=False)\n",
    "        y_batch = gutils.split_and_load(y_batch, ctx, even_split=False)\n",
    "\n",
    "        with autograd.record():\n",
    "            ls = [loss(net(_X), _y)\n",
    "                for _X, _y in zip(X_batch, y_batch)]\n",
    "\n",
    "        for l in ls:\n",
    "            l.backward()\n",
    "            train_loss += l.sum().as_in_context(mx.cpu()).asscalar() \n",
    "\n",
    "        trainer.step(batch_size=_batch_size)\n",
    "\n",
    "    nd.waitall()\n",
    "\n",
    "    train_p1, train_p3, train_p5 = evaluate(net, train_data_loader, ctx=ctx[-1])\n",
    "    test_p1, test_p3, test_p5 = evaluate(net, test_data_loader, ctx=ctx[-1])\n",
    "\n",
    "    print('\\n\\n\\nepoch %d:\\tloss %.4f' %(e, train_loss))\n",
    "    print('train_p@1\\t%.3f\\t\\ttrain_p@3\\t%.3f\\t\\ttrain_p@5\\t%.3f' %(train_p1, train_p3, train_p5))\n",
    "    print('test_p@1\\t%.3f\\t\\ttest_p@3\\t%.3f\\t\\ttest_p@5\\t%.3f' %(test_p1, test_p3, test_p5))\n",
    "\n",
    "    if(if_log):\n",
    "        _log = [[train_loss, train_p1, train_p3, train_p5, test_p1, test_p3, test_p5]]\n",
    "        _log = pd.DataFrame(_log, \n",
    "            columns=log_columns)\n",
    "        log = log.append(_log)"
   ]
  },
  {
   "cell_type": "code",
   "execution_count": null,
   "metadata": {},
   "outputs": [],
   "source": [
    "if(if_log):\n",
    "    log_count = 1\n",
    "    for file in glob.glob('*.csv'):\n",
    "        log_count += 1\n",
    "\n",
    "    with open(log_path + str(log_count) + '_params.txt', 'w') as log_params:\n",
    "        log_params.write(f'batch_size = {batch_size}\\nX_num = {X_num}\\nfeature_num = {feature_num}\\n' + \n",
    "                         f'hidden_size = {hidden_size}\\ntest_num = {test_num}\\nepoch = {epoch}\\n' + \n",
    "                         f'lr = {lr}\\nopt = {opt}\\nif_label_embed = {if_label_embed}\\n')\n",
    "\n",
    "    if(if_label_embed):\n",
    "        log.to_csv(log_path + str(log_count) + '_result-alter-' + str(datetime.now()) + '.csv', \n",
    "                   encoding='utf-8', index=False)\n",
    "    else:\n",
    "        log.to_csv(log_path + str(log_count) + '_result-' + str(datetime.now()) + '.csv', \n",
    "                   encoding='utf-8', index=False)"
   ]
  }
 ],
 "metadata": {
  "kernelspec": {
   "display_name": "Python 3",
   "language": "python",
   "name": "python3"
  },
  "language_info": {
   "codemirror_mode": {
    "name": "ipython",
    "version": 3
   },
   "file_extension": ".py",
   "mimetype": "text/x-python",
   "name": "python",
   "nbconvert_exporter": "python",
   "pygments_lexer": "ipython3",
   "version": "3.7.1"
  }
 },
 "nbformat": 4,
 "nbformat_minor": 2
}
